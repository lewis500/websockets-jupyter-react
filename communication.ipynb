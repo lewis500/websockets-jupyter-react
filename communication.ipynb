{
 "cells": [
  {
   "cell_type": "code",
   "execution_count": 28,
   "metadata": {
    "collapsed": true
   },
   "outputs": [],
   "source": [
    "import requests\n",
    "import numpy as np\n",
    "from ipywidgets import interact\n",
    "import matplotlib.pyplot as plt\n",
    "from scipy import stats"
   ]
  },
  {
   "cell_type": "code",
   "execution_count": 29,
   "metadata": {
    "collapsed": true
   },
   "outputs": [],
   "source": [
    "s = requests.Session()"
   ]
  },
  {
   "cell_type": "code",
   "execution_count": 36,
   "metadata": {},
   "outputs": [],
   "source": [
    "data = np.zeros(20)\n",
    "\n",
    "def plot_data(d):\n",
    "    plt.bar(x=d[:,1],width=d[:,2]-d[:,1],height=d[:,0])\n",
    "    plt.show()\n",
    "\n",
    "def on_change(k):\n",
    "    global data\n",
    "    gamma = stats.gamma(k,5.)\n",
    "    b,c = np.histogram(gamma.rvs(size=10000),bins=20,normed=True)\n",
    "    data = np.dstack((b,c[:-1],c[1:]))[0]\n",
    "    s.post(\"http://localhost:3000/data\",json=data.tolist())\n",
    "#     plot_data(data)\n",
    "\n",
    "interact(on_change,k=(0.5,5.,.1))"
   ]
  },
  {
   "cell_type": "code",
   "execution_count": 18,
   "metadata": {},
   "outputs": [
    {
     "data": {
      "text/plain": [
       "array([ 0.68052947,  0.68052947,  0.68052947,  0.68052947,  0.68052947,\n",
       "        0.68052947,  0.68052947,  0.68052947,  0.68052947,  0.68052947,\n",
       "        0.68052947,  0.68052947,  0.68052947,  0.68052947,  0.68052947,\n",
       "        0.68052947,  0.68052947,  0.68052947,  0.68052947,  0.68052947])"
      ]
     },
     "execution_count": 18,
     "metadata": {},
     "output_type": "execute_result"
    }
   ],
   "source": [
    "# data.mean()\n",
    "# plt.bars\n",
    "# data[:,1]\n",
    "data[:,2]-data[:,1]"
   ]
  }
 ],
 "metadata": {
  "anaconda-cloud": {},
  "kernelspec": {
   "display_name": "Python [default]",
   "language": "python",
   "name": "python2"
  },
  "language_info": {
   "codemirror_mode": {
    "name": "ipython",
    "version": 2
   },
   "file_extension": ".py",
   "mimetype": "text/x-python",
   "name": "python",
   "nbconvert_exporter": "python",
   "pygments_lexer": "ipython2",
   "version": "2.7.12"
  },
  "widgets": {
   "state": {
    "cf4088cc86724d4ebdda0ce27a1d62fd": {
     "views": [
      {
       "cell_index": 2
      }
     ]
    }
   },
   "version": "1.2.0"
  }
 },
 "nbformat": 4,
 "nbformat_minor": 1
}
